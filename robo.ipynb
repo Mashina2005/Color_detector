{
 "cells": [
  {
   "cell_type": "code",
   "execution_count": 3,
   "id": "3e6561cc",
   "metadata": {},
   "outputs": [
    {
     "name": "stderr",
     "output_type": "stream",
     "text": [
      "[ WARN:0@58.204] global /croot/opencv-suite_1676452025216/work/modules/videoio/src/cap_gstreamer.cpp (862) isPipelinePlaying OpenCV | GStreamer warning: GStreamer: pipeline have not been created\n"
     ]
    }
   ],
   "source": [
    "import cv2\n",
    "import numpy as np\n",
    " \n",
    "cap = cv2.VideoCapture(0)\n",
    " \n",
    "while True:\n",
    "    read_ok, img = cap.read()\n",
    "    img_bcp = img.copy()\n",
    "  \n",
    "    img = cv2.resize(img, (640, 480))\n",
    "    input_image_cpy = img.copy()\n",
    " \n",
    "    hsv = cv2.cvtColor(img, cv2.COLOR_BGR2HSV)\n",
    " \n",
    "    lower_red = np.array([0, 50, 50])\n",
    "    upper_red = np.array([10, 255, 255])\n",
    "     \n",
    "    lower_green = np.array([40, 20, 50])\n",
    "    upper_green = np.array([90, 255, 255])\n",
    "     \n",
    "    lower_blue = np.array([100, 50, 50])\n",
    "    upper_blue = np.array([130, 255, 255])\n",
    " \n",
    "    mask_red = cv2.inRange(hsv, lower_red, upper_red)\n",
    "    mask_green = cv2.inRange(hsv, lower_green, upper_green)\n",
    "    mask_blue = cv2.inRange(hsv, lower_blue, upper_blue)\n",
    " \n",
    "    contours_red, _ = cv2.findContours(mask_red, cv2.RETR_TREE, cv2.CHAIN_APPROX_SIMPLE)\n",
    "    contours_green, _ = cv2.findContours(mask_green, cv2.RETR_TREE, cv2.CHAIN_APPROX_SIMPLE)\n",
    "    contours_blue, _ = cv2.findContours(mask_blue, cv2.RETR_TREE, cv2.CHAIN_APPROX_SIMPLE)\n",
    " \n",
    "    for cnt in contours_red:\n",
    "        contour_area = cv2.contourArea(cnt)\n",
    "        if contour_area > 1000:\n",
    "            x, y, w, h = cv2.boundingRect(cnt)\n",
    "            cv2.rectangle(img, (x, y), (x + w, y + h), (0, 0, 255), 2)\n",
    "            cv2.putText(img, 'Red', (x, y-10), cv2.FONT_HERSHEY_SIMPLEX, 0.9, (0, 0, 255), 2)\n",
    " \n",
    "    for cnt in contours_green:\n",
    "        contour_area = cv2.contourArea(cnt)\n",
    "        if contour_area > 1000:\n",
    "            x, y, w, h = cv2.boundingRect(cnt)\n",
    "            cv2.rectangle(img, (x, y), (x + w, y + h), (0, 255, 0), 2)\n",
    "            cv2.putText(img, 'Green', (x, y-10), cv2.FONT_HERSHEY_SIMPLEX, 0.9, (0, 255, 0), 2)\n",
    " \n",
    "    for cnt in contours_blue:\n",
    "        contour_area = cv2.contourArea(cnt)\n",
    "        if contour_area > 1000:\n",
    "            x, y, w, h = cv2.boundingRect(cnt)\n",
    "            cv2.rectangle(img, (x, y), (x + w, y + h), (255, 0, 0), 2)\n",
    "            cv2.putText(img, 'Blue', (x, y-10), cv2.FONT_HERSHEY_SIMPLEX, 0.9, (255, 0, 0), 2)\n",
    "  \n",
    "    cv2.imshow('Color Recognition Output', img)\n",
    "     \n",
    "    if cv2.waitKey(1) & 0xFF == ord('x'):\n",
    "        break"
   ]
  },
  {
   "cell_type": "code",
   "execution_count": null,
   "id": "74124459",
   "metadata": {},
   "outputs": [],
   "source": []
  }
 ],
 "metadata": {
  "kernelspec": {
   "display_name": "Python 3 (ipykernel)",
   "language": "python",
   "name": "python3"
  },
  "language_info": {
   "codemirror_mode": {
    "name": "ipython",
    "version": 3
   },
   "file_extension": ".py",
   "mimetype": "text/x-python",
   "name": "python",
   "nbconvert_exporter": "python",
   "pygments_lexer": "ipython3",
   "version": "3.10.11"
  }
 },
 "nbformat": 4,
 "nbformat_minor": 5
}
